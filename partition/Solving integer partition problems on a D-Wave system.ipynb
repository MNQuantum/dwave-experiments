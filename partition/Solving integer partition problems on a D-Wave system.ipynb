{
 "cells": [
  {
   "cell_type": "markdown",
   "id": "bf287cfe",
   "metadata": {},
   "source": [
    "# Solving integer partition problems on a D-Wave system\n",
    "\n",
    "**Authored by David Radcliffe (dradcliffe@gmail.com) on March 13, 2023.**\n",
    "\n",
    "\n",
    "The **integer partition problem** is as follows: \n",
    "\n",
    "> Given an list of integers, split the list into two parts having equal sums. \n",
    "\n",
    "For example, the list [15, 20,  8,  5,  9,  9]\n",
    "can be split into two parts, [15, 9, 9] and [20, 8, 5]\n",
    "each summing to 33.\n",
    "\n",
    "This problem is NP-complete, so there is no known efficient algorithm that can solve it in general. However, if the integers are not too large, the problem can be solved efficiently using a dynamic programming, and there also exist efficient approximate algorithms.\n",
    "\n",
    "A typical application is scheduling a set of independent tasks between two processors so that the total processing time is minimized. Considering our previous example, suppose that we have six tasks, requiring 15, 20, 8, 5, 9, and 9 minutes, respectively. Then we could assign the first task and the last two tasks to the first processor, and the remaining three tasks to the second processor. The first processor completes its tasks in 15 + 9 + 9 = 33 minutes, and the second processor completes its tasks in 20 + 8 + 5 = 33 minutes, so this is an optimal allocation of tasks between the two processors.\n",
    "\n",
    "In this notebook, we attempt to solve integer partition problems on a D-Wave system, using a hybrid (quantum and classical) algorithm. The D-Wave system is not a universal (gate-based) quantum computer, but rather a quantum annealer. It is unknown whether such devices are able to solve combinatorial problems more efficently than a classical computer.\n",
    "\n",
    "**Note:** You will need to install the [dwave-system](https://docs.ocean.dwavesys.com/projects/system/en/latest/index.html) package and obtain an [API token](https://docs.ocean.dwavesys.com/en/stable/overview/sapi.html) to run this notebook. You can enter your API token by executing the cell below. For security reasons, you should not save your API token in this notebook.\n"
   ]
  },
  {
   "cell_type": "code",
   "execution_count": 1,
   "id": "f181bd00",
   "metadata": {},
   "outputs": [
    {
     "name": "stdout",
     "output_type": "stream",
     "text": [
      "Enter API token for D-Wave: ········\n"
     ]
    }
   ],
   "source": [
    "from getpass import getpass\n",
    "api_token = getpass('Enter API token for D-Wave: ')"
   ]
  },
  {
   "cell_type": "code",
   "execution_count": 10,
   "id": "f0204c92",
   "metadata": {},
   "outputs": [],
   "source": [
    "# Execute this cell unless you have already installed the dwave-system package.\n",
    "!pip install dwave-system -q"
   ]
  },
  {
   "cell_type": "code",
   "execution_count": 3,
   "id": "d9a4160e",
   "metadata": {},
   "outputs": [],
   "source": [
    "import numpy as np\n",
    "from dwave.system import LeapHybridSampler"
   ]
  },
  {
   "cell_type": "code",
   "execution_count": 4,
   "id": "b9bc62da",
   "metadata": {},
   "outputs": [],
   "source": [
    "\"\"\"\n",
    "Create an instance of the integer partition problem.\n",
    "\n",
    "Args:\n",
    "size (int): The total size of the partition instance.\n",
    "max_value (int): The maximum value that can occur as an element in the returned array.\n",
    "\n",
    "Returns:\n",
    "numpy.ndarray: An array of size 'size', where (size // 2) of the elements have the same sum as the \n",
    "remaining (size - size // 2) elements. The values in the array are randomly generated integers \n",
    "between 1 and max_value inclusive.\n",
    "\n",
    "Raises:\n",
    "AssertionError: If the generated array does not meet the partition criteria.\n",
    "\n",
    "Note that this function uses (up to) 64-bit signed integers, and overflow errors may occur\n",
    "if the parameters are too large.\n",
    "\n",
    "Example:\n",
    ">>> create_partition_instance(6, 100)\n",
    "array([51, 99, 58, 80, 69, 95])\n",
    "\n",
    "This is a valid instance because 51 + 80 + 95 = 99 + 58 + 69.\n",
    "\"\"\"\n",
    "def create_partition_instance(size, max_value):\n",
    "    while True:\n",
    "        n = size // 2\n",
    "        m = size - n\n",
    "        a = np.random.randint(1, max_value + 1, size = n)\n",
    "        b = np.random.randint(1, max_value + 1, size = m)\n",
    "        diff = b.sum() - a.sum()\n",
    "        r = diff % n\n",
    "        a += diff // n\n",
    "        a[:r] += 1\n",
    "        assert a.sum() == b.sum()\n",
    "        a = np.concatenate([a, b])\n",
    "        if a.min() >= 1 and a.max() <= max_value:\n",
    "            np.random.shuffle(a)\n",
    "            return a"
   ]
  },
  {
   "cell_type": "markdown",
   "id": "de265c4e",
   "metadata": {},
   "source": [
    "The first step is to formulate our problem as a quadratic optimization problem.\n",
    "\n",
    "Let $\\mathbf{s} = (s_1, \\ldots, s_n)^{\\top}$ be a column vector of integers. A partition of $\\mathbf{s}$ into two subvectors is defined by a vector $\\mathbf{x} = (x_1, \\ldots, x_n)^{\\top}$ where $x_k = \\pm1$ for all $k$.\n",
    "The entry $s_k$ is assigned to the left part when $x_k = -1$, and it is assigned to the right part\n",
    "when $x_k = 1$.\n",
    "\n",
    "The inner product $\\mathbf{x} \\cdot \\mathbf{s}^{\\top}$ is the (signed) difference between the sums of the two parts. It suffices to minimize the square of this quantity. Note that\n",
    "\n",
    "$$(\\mathbf{x} \\cdot \\mathbf{s}^{\\top})^2 = \n",
    "   \\mathbf{x}^{\\top} \\mathbf{s}\\mathbf{s}^{\\top} \\mathbf{x} =\n",
    "   \\mathbf{x}^{\\top}J\\mathbf{x},$$\n",
    "where $J = \\mathbf{s} \\mathbf{s}^{\\top}$. \n",
    "\n",
    "Thus, our problem can be formulated as a quadratic optimization problem with no constraints,\n",
    "except that the entries of the solution vector are $\\pm 1$. This type of optimization problem is known\n",
    "as the **Ising model**."
   ]
  },
  {
   "cell_type": "code",
   "execution_count": 5,
   "id": "fa7fea3b",
   "metadata": {},
   "outputs": [],
   "source": [
    "\"\"\"\n",
    "Solves an instance of the integer partition problem on the D-Wave system using an Ising model.\n",
    "\n",
    "Given an instance of the integer partition problem represented as an array of integers, this function\n",
    "constructs an Ising model that encodes the problem and solves it on the D-Wave quantum annealer using the\n",
    "LeapHybridSampler. The resulting solution is then returned as an array of signed ones representing the\n",
    "partition of the input array, where a value of -1 at index i indicates that the ith element of the input array\n",
    "belongs to the left partition, and a value of +1 indicates that the element belongs to the right partition.\n",
    "\n",
    "Args:\n",
    "instance (numpy.ndarray): The input array to be partitioned.\n",
    "\n",
    "Returns:\n",
    "numpy.ndarray: An array of signed ones representing the partition of the input array, where a value\n",
    "of -1 at index i indicates that the ith element of the input array belongs to the left partition, and\n",
    "a value of +1 indicates that the element belongs to the right partition.\n",
    "\n",
    "Example:\n",
    ">>> instance = np.array([1, 7, 11, 5])\n",
    ">>> solve_partition_ising(instance)\n",
    "array([-1, 1, -1, 1])\n",
    "\"\"\"\n",
    "def solve_partition_ising(instance):\n",
    "    J = matrix_to_dict(np.outer(instance, instance))\n",
    "    sample = LeapHybridSampler(token=api_token).sample_ising({}, J).samples()[0]\n",
    "    solution = np.array(list(sample.values()))\n",
    "    return solution"
   ]
  },
  {
   "cell_type": "code",
   "execution_count": 6,
   "id": "11606213",
   "metadata": {},
   "outputs": [],
   "source": [
    "\"\"\"\n",
    "Converts a given numpy matrix into a dictionary.\n",
    "\n",
    "Given a numpy matrix, this function converts the matrix into a dictionary representation where the keys\n",
    "are tuples (i, j) corresponding to the indices of the matrix, and the values are the elements of the matrix\n",
    "at those indices.\n",
    "\n",
    "Args:\n",
    "matrix (numpy.ndarray): The input matrix to be converted.\n",
    "\n",
    "Returns:\n",
    "dict: A dictionary representation of the input matrix.\n",
    "\n",
    "Example:\n",
    ">>> matrix = np.array([[1, 2], [3, 4]])\n",
    ">>> matrix_to_dict(matrix)\n",
    "{(0, 0): 1, (0, 1): 2, (1, 0): 3, (1, 1): 4}\n",
    "\"\"\"\n",
    "def matrix_to_dict(matrix):\n",
    "    return dict(np.ndenumerate(matrix))"
   ]
  },
  {
   "cell_type": "markdown",
   "id": "be39e661",
   "metadata": {},
   "source": [
    "Let's create a small instance of the partition problem. We will generate an array of 50 integers, between 1 and 65535 inclusive, that can be partitioned into two subarrays with equal sums."
   ]
  },
  {
   "cell_type": "code",
   "execution_count": 7,
   "id": "2430c93e",
   "metadata": {},
   "outputs": [
    {
     "data": {
      "text/plain": [
       "array([57090, 44233, 13457,  4691, 60476, 60088,  8793, 45039, 10350,\n",
       "       10887, 52122, 11195, 59079, 54718, 50233,  1282, 29165, 39442,\n",
       "       26798, 58811,  1219, 15640,  3622, 26764, 62373, 44830, 32882,\n",
       "       12109, 58279, 49762, 44658, 36927, 17248, 52622, 46183,  4168,\n",
       "       57719, 39421, 24881, 36063, 53599, 14416,  8595, 33404, 25049,\n",
       "       44726,  1386, 24170, 20787, 39139])"
      ]
     },
     "execution_count": 7,
     "metadata": {},
     "output_type": "execute_result"
    }
   ],
   "source": [
    "instance = create_partition_instance(50, 2**16 - 1)\n",
    "instance"
   ]
  },
  {
   "cell_type": "markdown",
   "id": "ab1dd28b",
   "metadata": {},
   "source": [
    "Next, we use our Ising solver to partition the instance. This might take a minute, so be patient!"
   ]
  },
  {
   "cell_type": "code",
   "execution_count": 8,
   "id": "d53f5588",
   "metadata": {},
   "outputs": [
    {
     "data": {
      "text/plain": [
       "array([-1, -1,  1, -1,  1, -1, -1, -1, -1,  1,  1,  1,  1, -1, -1,  1,  1,\n",
       "       -1, -1,  1,  1, -1,  1, -1,  1, -1,  1, -1, -1, -1,  1,  1, -1, -1,\n",
       "        1,  1,  1,  1, -1,  1,  1,  1, -1, -1, -1, -1,  1,  1,  1,  1],\n",
       "      dtype=int8)"
      ]
     },
     "execution_count": 8,
     "metadata": {},
     "output_type": "execute_result"
    }
   ],
   "source": [
    "solution = solve_partition_ising(instance)\n",
    "solution"
   ]
  },
  {
   "cell_type": "markdown",
   "id": "bab9bb31",
   "metadata": {},
   "source": [
    "We can use the dot product to measure the quality of our solution. The dot product of the instance and solution vectors is equal to the sum of the right partition minus the sum of the left partition. If the dot product is zero then the solution is perfect; otherwise it is only approximate."
   ]
  },
  {
   "cell_type": "code",
   "execution_count": 9,
   "id": "a90d0c20",
   "metadata": {},
   "outputs": [
    {
     "data": {
      "text/plain": [
       "-178"
      ]
     },
     "execution_count": 9,
     "metadata": {},
     "output_type": "execute_result"
    }
   ],
   "source": [
    "solution.dot(instance)"
   ]
  },
  {
   "cell_type": "code",
   "execution_count": null,
   "id": "14f532b3",
   "metadata": {},
   "outputs": [],
   "source": []
  }
 ],
 "metadata": {
  "kernelspec": {
   "display_name": "Python 3 (ipykernel)",
   "language": "python",
   "name": "python3"
  },
  "language_info": {
   "codemirror_mode": {
    "name": "ipython",
    "version": 3
   },
   "file_extension": ".py",
   "mimetype": "text/x-python",
   "name": "python",
   "nbconvert_exporter": "python",
   "pygments_lexer": "ipython3",
   "version": "3.10.9"
  }
 },
 "nbformat": 4,
 "nbformat_minor": 5
}
